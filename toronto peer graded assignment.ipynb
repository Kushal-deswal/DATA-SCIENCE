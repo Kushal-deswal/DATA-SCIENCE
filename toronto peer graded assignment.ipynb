{
 "cells": [
  {
   "cell_type": "code",
   "execution_count": 2,
   "metadata": {},
   "outputs": [
    {
     "name": "stdout",
     "output_type": "stream",
     "text": [
      "Requirement already satisfied: pandas in c:\\users\\kushal\\appdata\\local\\programs\\python\\python38\\lib\\site-packages (1.0.5)\n",
      "Requirement already satisfied: python-dateutil>=2.6.1 in c:\\users\\kushal\\appdata\\local\\programs\\python\\python38\\lib\\site-packages (from pandas) (2.8.1)\n",
      "Requirement already satisfied: numpy>=1.13.3 in c:\\users\\kushal\\appdata\\local\\programs\\python\\python38\\lib\\site-packages (from pandas) (1.19.0)\n",
      "Requirement already satisfied: pytz>=2017.2 in c:\\users\\kushal\\appdata\\local\\programs\\python\\python38\\lib\\site-packages (from pandas) (2020.1)\n",
      "Requirement already satisfied: six>=1.5 in c:\\users\\kushal\\appdata\\local\\programs\\python\\python38\\lib\\site-packages (from python-dateutil>=2.6.1->pandas) (1.15.0)\n",
      "Note: you may need to restart the kernel to use updated packages.\n"
     ]
    },
    {
     "name": "stderr",
     "output_type": "stream",
     "text": [
      "WARNING: You are using pip version 19.2.3, however version 20.1.1 is available.\n",
      "You should consider upgrading via the 'python -m pip install --upgrade pip' command.\n"
     ]
    }
   ],
   "source": [
    "pip install pandas\n"
   ]
  },
  {
   "cell_type": "code",
   "execution_count": 4,
   "metadata": {},
   "outputs": [
    {
     "name": "stdout",
     "output_type": "stream",
     "text": [
      "Collecting foilum\n",
      "Note: you may need to restart the kernel to use updated packages.\n"
     ]
    },
    {
     "name": "stderr",
     "output_type": "stream",
     "text": [
      "  ERROR: Could not find a version that satisfies the requirement foilum (from versions: none)\n",
      "ERROR: No matching distribution found for foilum\n",
      "WARNING: You are using pip version 19.2.3, however version 20.1.1 is available.\n",
      "You should consider upgrading via the 'python -m pip install --upgrade pip' command.\n"
     ]
    }
   ],
   "source": [
    "pip install foilum\n"
   ]
  },
  {
   "cell_type": "code",
   "execution_count": 5,
   "metadata": {},
   "outputs": [
    {
     "name": "stdout",
     "output_type": "stream",
     "text": [
      "Requirement already satisfied: lxml in c:\\users\\kushal\\appdata\\local\\programs\\python\\python38\\lib\\site-packages (4.5.2)\n",
      "Note: you may need to restart the kernel to use updated packages.\n"
     ]
    },
    {
     "name": "stderr",
     "output_type": "stream",
     "text": [
      "WARNING: You are using pip version 19.2.3, however version 20.1.1 is available.\n",
      "You should consider upgrading via the 'python -m pip install --upgrade pip' command.\n"
     ]
    }
   ],
   "source": [
    "pip install lxml"
   ]
  },
  {
   "cell_type": "code",
   "execution_count": 6,
   "metadata": {},
   "outputs": [
    {
     "name": "stdout",
     "output_type": "stream",
     "text": [
      "Note: you may need to restart the kernel to use updated packages.Requirement already satisfied: html5lib in c:\\users\\kushal\\appdata\\local\\programs\\python\\python38\\lib\\site-packages (1.1)\n",
      "Requirement already satisfied: six>=1.9 in c:\\users\\kushal\\appdata\\local\\programs\\python\\python38\\lib\\site-packages (from html5lib) (1.15.0)\n",
      "Requirement already satisfied: webencodings in c:\\users\\kushal\\appdata\\local\\programs\\python\\python38\\lib\\site-packages (from html5lib) (0.5.1)\n"
     ]
    },
    {
     "name": "stderr",
     "output_type": "stream",
     "text": [
      "WARNING: You are using pip version 19.2.3, however version 20.1.1 is available.\n",
      "You should consider upgrading via the 'python -m pip install --upgrade pip' command.\n"
     ]
    },
    {
     "name": "stdout",
     "output_type": "stream",
     "text": [
      "\n"
     ]
    }
   ],
   "source": [
    "pip install html5lib"
   ]
  },
  {
   "cell_type": "code",
   "execution_count": 7,
   "metadata": {},
   "outputs": [
    {
     "name": "stdout",
     "output_type": "stream",
     "text": [
      "Requirement already satisfied: BeautifulSoup4 in c:\\users\\kushal\\appdata\\local\\programs\\python\\python38\\lib\\site-packages (4.9.1)\n",
      "Requirement already satisfied: soupsieve>1.2 in c:\\users\\kushal\\appdata\\local\\programs\\python\\python38\\lib\\site-packages (from BeautifulSoup4) (2.0.1)\n",
      "Note: you may need to restart the kernel to use updated packages.\n"
     ]
    },
    {
     "name": "stderr",
     "output_type": "stream",
     "text": [
      "WARNING: You are using pip version 19.2.3, however version 20.1.1 is available.\n",
      "You should consider upgrading via the 'python -m pip install --upgrade pip' command.\n"
     ]
    }
   ],
   "source": [
    "pip install BeautifulSoup4"
   ]
  },
  {
   "cell_type": "code",
   "execution_count": 8,
   "metadata": {},
   "outputs": [],
   "source": [
    "import pandas as pd\n",
    "import folium"
   ]
  },
  {
   "cell_type": "markdown",
   "metadata": {},
   "source": [
    "## libraires have been installed....... now we'll scrap data from wikipedia using 'html5lib' library"
   ]
  },
  {
   "cell_type": "code",
   "execution_count": 9,
   "metadata": {},
   "outputs": [
    {
     "name": "stdout",
     "output_type": "stream",
     "text": [
      "Extracted 1 tables\n"
     ]
    }
   ],
   "source": [
    "from pandas.io.html import read_html\n",
    "page='https://en.wikipedia.org/wiki/List_of_postal_codes_of_Canada:_M'\n",
    "table= read_html(page,attrs={'class':'wikitable'})\n",
    "print('Extracted {} tables'.format(len(table)))\n"
   ]
  },
  {
   "cell_type": "code",
   "execution_count": 10,
   "metadata": {},
   "outputs": [
    {
     "data": {
      "text/html": [
       "<div>\n",
       "<style scoped>\n",
       "    .dataframe tbody tr th:only-of-type {\n",
       "        vertical-align: middle;\n",
       "    }\n",
       "\n",
       "    .dataframe tbody tr th {\n",
       "        vertical-align: top;\n",
       "    }\n",
       "\n",
       "    .dataframe thead th {\n",
       "        text-align: right;\n",
       "    }\n",
       "</style>\n",
       "<table border=\"1\" class=\"dataframe\">\n",
       "  <thead>\n",
       "    <tr style=\"text-align: right;\">\n",
       "      <th></th>\n",
       "      <th>Postal Code</th>\n",
       "      <th>Borough</th>\n",
       "      <th>Neighborhood</th>\n",
       "    </tr>\n",
       "  </thead>\n",
       "  <tbody>\n",
       "    <tr>\n",
       "      <th>0</th>\n",
       "      <td>M1A</td>\n",
       "      <td>Not assigned</td>\n",
       "      <td>Not assigned</td>\n",
       "    </tr>\n",
       "    <tr>\n",
       "      <th>1</th>\n",
       "      <td>M2A</td>\n",
       "      <td>Not assigned</td>\n",
       "      <td>Not assigned</td>\n",
       "    </tr>\n",
       "    <tr>\n",
       "      <th>2</th>\n",
       "      <td>M3A</td>\n",
       "      <td>North York</td>\n",
       "      <td>Parkwoods</td>\n",
       "    </tr>\n",
       "    <tr>\n",
       "      <th>3</th>\n",
       "      <td>M4A</td>\n",
       "      <td>North York</td>\n",
       "      <td>Victoria Village</td>\n",
       "    </tr>\n",
       "    <tr>\n",
       "      <th>4</th>\n",
       "      <td>M5A</td>\n",
       "      <td>Downtown Toronto</td>\n",
       "      <td>Regent Park, Harbourfront</td>\n",
       "    </tr>\n",
       "    <tr>\n",
       "      <th>...</th>\n",
       "      <td>...</td>\n",
       "      <td>...</td>\n",
       "      <td>...</td>\n",
       "    </tr>\n",
       "    <tr>\n",
       "      <th>175</th>\n",
       "      <td>M5Z</td>\n",
       "      <td>Not assigned</td>\n",
       "      <td>Not assigned</td>\n",
       "    </tr>\n",
       "    <tr>\n",
       "      <th>176</th>\n",
       "      <td>M6Z</td>\n",
       "      <td>Not assigned</td>\n",
       "      <td>Not assigned</td>\n",
       "    </tr>\n",
       "    <tr>\n",
       "      <th>177</th>\n",
       "      <td>M7Z</td>\n",
       "      <td>Not assigned</td>\n",
       "      <td>Not assigned</td>\n",
       "    </tr>\n",
       "    <tr>\n",
       "      <th>178</th>\n",
       "      <td>M8Z</td>\n",
       "      <td>Etobicoke</td>\n",
       "      <td>Mimico NW, The Queensway West, South of Bloor,...</td>\n",
       "    </tr>\n",
       "    <tr>\n",
       "      <th>179</th>\n",
       "      <td>M9Z</td>\n",
       "      <td>Not assigned</td>\n",
       "      <td>Not assigned</td>\n",
       "    </tr>\n",
       "  </tbody>\n",
       "</table>\n",
       "<p>180 rows × 3 columns</p>\n",
       "</div>"
      ],
      "text/plain": [
       "    Postal Code           Borough  \\\n",
       "0           M1A      Not assigned   \n",
       "1           M2A      Not assigned   \n",
       "2           M3A        North York   \n",
       "3           M4A        North York   \n",
       "4           M5A  Downtown Toronto   \n",
       "..          ...               ...   \n",
       "175         M5Z      Not assigned   \n",
       "176         M6Z      Not assigned   \n",
       "177         M7Z      Not assigned   \n",
       "178         M8Z         Etobicoke   \n",
       "179         M9Z      Not assigned   \n",
       "\n",
       "                                          Neighborhood  \n",
       "0                                         Not assigned  \n",
       "1                                         Not assigned  \n",
       "2                                            Parkwoods  \n",
       "3                                     Victoria Village  \n",
       "4                            Regent Park, Harbourfront  \n",
       "..                                                 ...  \n",
       "175                                       Not assigned  \n",
       "176                                       Not assigned  \n",
       "177                                       Not assigned  \n",
       "178  Mimico NW, The Queensway West, South of Bloor,...  \n",
       "179                                       Not assigned  \n",
       "\n",
       "[180 rows x 3 columns]"
      ]
     },
     "execution_count": 10,
     "metadata": {},
     "output_type": "execute_result"
    }
   ],
   "source": [
    "table[0]"
   ]
  },
  {
   "cell_type": "markdown",
   "metadata": {},
   "source": [
    "# inital table have been loaded now we'll pre-process the data within the table"
   ]
  },
  {
   "cell_type": "code",
   "execution_count": 11,
   "metadata": {},
   "outputs": [
    {
     "data": {
      "text/html": [
       "<div>\n",
       "<style scoped>\n",
       "    .dataframe tbody tr th:only-of-type {\n",
       "        vertical-align: middle;\n",
       "    }\n",
       "\n",
       "    .dataframe tbody tr th {\n",
       "        vertical-align: top;\n",
       "    }\n",
       "\n",
       "    .dataframe thead th {\n",
       "        text-align: right;\n",
       "    }\n",
       "</style>\n",
       "<table border=\"1\" class=\"dataframe\">\n",
       "  <thead>\n",
       "    <tr style=\"text-align: right;\">\n",
       "      <th></th>\n",
       "      <th>Postal Code</th>\n",
       "      <th>Borough</th>\n",
       "      <th>Neighborhood</th>\n",
       "    </tr>\n",
       "  </thead>\n",
       "  <tbody>\n",
       "    <tr>\n",
       "      <th>0</th>\n",
       "      <td>M1A</td>\n",
       "      <td>Not assigned</td>\n",
       "      <td>Not assigned</td>\n",
       "    </tr>\n",
       "    <tr>\n",
       "      <th>1</th>\n",
       "      <td>M2A</td>\n",
       "      <td>Not assigned</td>\n",
       "      <td>Not assigned</td>\n",
       "    </tr>\n",
       "    <tr>\n",
       "      <th>2</th>\n",
       "      <td>M3A</td>\n",
       "      <td>North York</td>\n",
       "      <td>Parkwoods</td>\n",
       "    </tr>\n",
       "    <tr>\n",
       "      <th>3</th>\n",
       "      <td>M4A</td>\n",
       "      <td>North York</td>\n",
       "      <td>Victoria Village</td>\n",
       "    </tr>\n",
       "    <tr>\n",
       "      <th>4</th>\n",
       "      <td>M5A</td>\n",
       "      <td>Downtown Toronto</td>\n",
       "      <td>Regent Park, Harbourfront</td>\n",
       "    </tr>\n",
       "    <tr>\n",
       "      <th>...</th>\n",
       "      <td>...</td>\n",
       "      <td>...</td>\n",
       "      <td>...</td>\n",
       "    </tr>\n",
       "    <tr>\n",
       "      <th>175</th>\n",
       "      <td>M5Z</td>\n",
       "      <td>Not assigned</td>\n",
       "      <td>Not assigned</td>\n",
       "    </tr>\n",
       "    <tr>\n",
       "      <th>176</th>\n",
       "      <td>M6Z</td>\n",
       "      <td>Not assigned</td>\n",
       "      <td>Not assigned</td>\n",
       "    </tr>\n",
       "    <tr>\n",
       "      <th>177</th>\n",
       "      <td>M7Z</td>\n",
       "      <td>Not assigned</td>\n",
       "      <td>Not assigned</td>\n",
       "    </tr>\n",
       "    <tr>\n",
       "      <th>178</th>\n",
       "      <td>M8Z</td>\n",
       "      <td>Etobicoke</td>\n",
       "      <td>Mimico NW, The Queensway West, South of Bloor,...</td>\n",
       "    </tr>\n",
       "    <tr>\n",
       "      <th>179</th>\n",
       "      <td>M9Z</td>\n",
       "      <td>Not assigned</td>\n",
       "      <td>Not assigned</td>\n",
       "    </tr>\n",
       "  </tbody>\n",
       "</table>\n",
       "<p>180 rows × 3 columns</p>\n",
       "</div>"
      ],
      "text/plain": [
       "    Postal Code           Borough  \\\n",
       "0           M1A      Not assigned   \n",
       "1           M2A      Not assigned   \n",
       "2           M3A        North York   \n",
       "3           M4A        North York   \n",
       "4           M5A  Downtown Toronto   \n",
       "..          ...               ...   \n",
       "175         M5Z      Not assigned   \n",
       "176         M6Z      Not assigned   \n",
       "177         M7Z      Not assigned   \n",
       "178         M8Z         Etobicoke   \n",
       "179         M9Z      Not assigned   \n",
       "\n",
       "                                          Neighborhood  \n",
       "0                                         Not assigned  \n",
       "1                                         Not assigned  \n",
       "2                                            Parkwoods  \n",
       "3                                     Victoria Village  \n",
       "4                            Regent Park, Harbourfront  \n",
       "..                                                 ...  \n",
       "175                                       Not assigned  \n",
       "176                                       Not assigned  \n",
       "177                                       Not assigned  \n",
       "178  Mimico NW, The Queensway West, South of Bloor,...  \n",
       "179                                       Not assigned  \n",
       "\n",
       "[180 rows x 3 columns]"
      ]
     },
     "execution_count": 11,
     "metadata": {},
     "output_type": "execute_result"
    }
   ],
   "source": [
    "table1=pd.DataFrame(table[0])\n",
    "table1"
   ]
  },
  {
   "cell_type": "code",
   "execution_count": 12,
   "metadata": {},
   "outputs": [
    {
     "name": "stderr",
     "output_type": "stream",
     "text": [
      "c:\\users\\kushal\\appdata\\local\\programs\\python\\python38\\lib\\site-packages\\pandas\\core\\frame.py:3990: SettingWithCopyWarning: \n",
      "A value is trying to be set on a copy of a slice from a DataFrame\n",
      "\n",
      "See the caveats in the documentation: https://pandas.pydata.org/pandas-docs/stable/user_guide/indexing.html#returning-a-view-versus-a-copy\n",
      "  return super().drop(\n"
     ]
    },
    {
     "data": {
      "text/html": [
       "<div>\n",
       "<style scoped>\n",
       "    .dataframe tbody tr th:only-of-type {\n",
       "        vertical-align: middle;\n",
       "    }\n",
       "\n",
       "    .dataframe tbody tr th {\n",
       "        vertical-align: top;\n",
       "    }\n",
       "\n",
       "    .dataframe thead th {\n",
       "        text-align: right;\n",
       "    }\n",
       "</style>\n",
       "<table border=\"1\" class=\"dataframe\">\n",
       "  <thead>\n",
       "    <tr style=\"text-align: right;\">\n",
       "      <th></th>\n",
       "      <th>Postal Code</th>\n",
       "      <th>Borough</th>\n",
       "      <th>Neighborhood</th>\n",
       "    </tr>\n",
       "  </thead>\n",
       "  <tbody>\n",
       "    <tr>\n",
       "      <th>0</th>\n",
       "      <td>M3A</td>\n",
       "      <td>North York</td>\n",
       "      <td>Parkwoods</td>\n",
       "    </tr>\n",
       "    <tr>\n",
       "      <th>1</th>\n",
       "      <td>M4A</td>\n",
       "      <td>North York</td>\n",
       "      <td>Victoria Village</td>\n",
       "    </tr>\n",
       "    <tr>\n",
       "      <th>2</th>\n",
       "      <td>M5A</td>\n",
       "      <td>Downtown Toronto</td>\n",
       "      <td>Regent Park, Harbourfront</td>\n",
       "    </tr>\n",
       "    <tr>\n",
       "      <th>3</th>\n",
       "      <td>M6A</td>\n",
       "      <td>North York</td>\n",
       "      <td>Lawrence Manor, Lawrence Heights</td>\n",
       "    </tr>\n",
       "    <tr>\n",
       "      <th>4</th>\n",
       "      <td>M7A</td>\n",
       "      <td>Downtown Toronto</td>\n",
       "      <td>Queen's Park, Ontario Provincial Government</td>\n",
       "    </tr>\n",
       "    <tr>\n",
       "      <th>...</th>\n",
       "      <td>...</td>\n",
       "      <td>...</td>\n",
       "      <td>...</td>\n",
       "    </tr>\n",
       "    <tr>\n",
       "      <th>98</th>\n",
       "      <td>M8X</td>\n",
       "      <td>Etobicoke</td>\n",
       "      <td>The Kingsway, Montgomery Road, Old Mill North</td>\n",
       "    </tr>\n",
       "    <tr>\n",
       "      <th>99</th>\n",
       "      <td>M4Y</td>\n",
       "      <td>Downtown Toronto</td>\n",
       "      <td>Church and Wellesley</td>\n",
       "    </tr>\n",
       "    <tr>\n",
       "      <th>100</th>\n",
       "      <td>M7Y</td>\n",
       "      <td>East Toronto</td>\n",
       "      <td>Business reply mail Processing Centre, South C...</td>\n",
       "    </tr>\n",
       "    <tr>\n",
       "      <th>101</th>\n",
       "      <td>M8Y</td>\n",
       "      <td>Etobicoke</td>\n",
       "      <td>Old Mill South, King's Mill Park, Sunnylea, Hu...</td>\n",
       "    </tr>\n",
       "    <tr>\n",
       "      <th>102</th>\n",
       "      <td>M8Z</td>\n",
       "      <td>Etobicoke</td>\n",
       "      <td>Mimico NW, The Queensway West, South of Bloor,...</td>\n",
       "    </tr>\n",
       "  </tbody>\n",
       "</table>\n",
       "<p>103 rows × 3 columns</p>\n",
       "</div>"
      ],
      "text/plain": [
       "    Postal Code           Borough  \\\n",
       "0           M3A        North York   \n",
       "1           M4A        North York   \n",
       "2           M5A  Downtown Toronto   \n",
       "3           M6A        North York   \n",
       "4           M7A  Downtown Toronto   \n",
       "..          ...               ...   \n",
       "98          M8X         Etobicoke   \n",
       "99          M4Y  Downtown Toronto   \n",
       "100         M7Y      East Toronto   \n",
       "101         M8Y         Etobicoke   \n",
       "102         M8Z         Etobicoke   \n",
       "\n",
       "                                          Neighborhood  \n",
       "0                                            Parkwoods  \n",
       "1                                     Victoria Village  \n",
       "2                            Regent Park, Harbourfront  \n",
       "3                     Lawrence Manor, Lawrence Heights  \n",
       "4          Queen's Park, Ontario Provincial Government  \n",
       "..                                                 ...  \n",
       "98       The Kingsway, Montgomery Road, Old Mill North  \n",
       "99                                Church and Wellesley  \n",
       "100  Business reply mail Processing Centre, South C...  \n",
       "101  Old Mill South, King's Mill Park, Sunnylea, Hu...  \n",
       "102  Mimico NW, The Queensway West, South of Bloor,...  \n",
       "\n",
       "[103 rows x 3 columns]"
      ]
     },
     "execution_count": 12,
     "metadata": {},
     "output_type": "execute_result"
    }
   ],
   "source": [
    "table2=table1[table1['Borough']!='Not assigned']\n",
    "table2.reset_index(inplace=True)\n",
    "table2.drop('index',axis=1,inplace=True)\n",
    "table2"
   ]
  },
  {
   "cell_type": "code",
   "execution_count": 13,
   "metadata": {},
   "outputs": [
    {
     "data": {
      "text/plain": [
       "Index(['Postal Code', 'Borough', 'Neighborhood'], dtype='object')"
      ]
     },
     "execution_count": 13,
     "metadata": {},
     "output_type": "execute_result"
    }
   ],
   "source": [
    "table2.columns"
   ]
  },
  {
   "cell_type": "markdown",
   "metadata": {},
   "source": [
    "# this has all combined neighbourhoods already placed within 1 cell seperated by comma"
   ]
  },
  {
   "cell_type": "code",
   "execution_count": 14,
   "metadata": {},
   "outputs": [
    {
     "data": {
      "text/plain": [
       "(103, 3)"
      ]
     },
     "execution_count": 14,
     "metadata": {},
     "output_type": "execute_result"
    }
   ],
   "source": [
    "table2.shape"
   ]
  },
  {
   "cell_type": "code",
   "execution_count": 15,
   "metadata": {},
   "outputs": [
    {
     "data": {
      "text/html": [
       "<div>\n",
       "<style scoped>\n",
       "    .dataframe tbody tr th:only-of-type {\n",
       "        vertical-align: middle;\n",
       "    }\n",
       "\n",
       "    .dataframe tbody tr th {\n",
       "        vertical-align: top;\n",
       "    }\n",
       "\n",
       "    .dataframe thead th {\n",
       "        text-align: right;\n",
       "    }\n",
       "</style>\n",
       "<table border=\"1\" class=\"dataframe\">\n",
       "  <thead>\n",
       "    <tr style=\"text-align: right;\">\n",
       "      <th></th>\n",
       "      <th>Postal Code</th>\n",
       "      <th>Borough</th>\n",
       "      <th>Neighborhood</th>\n",
       "    </tr>\n",
       "  </thead>\n",
       "  <tbody>\n",
       "    <tr>\n",
       "      <th>0</th>\n",
       "      <td>M3A</td>\n",
       "      <td>North York</td>\n",
       "      <td>Parkwoods</td>\n",
       "    </tr>\n",
       "    <tr>\n",
       "      <th>1</th>\n",
       "      <td>M4A</td>\n",
       "      <td>North York</td>\n",
       "      <td>Victoria Village</td>\n",
       "    </tr>\n",
       "    <tr>\n",
       "      <th>2</th>\n",
       "      <td>M5A</td>\n",
       "      <td>Downtown Toronto</td>\n",
       "      <td>Regent Park, Harbourfront</td>\n",
       "    </tr>\n",
       "    <tr>\n",
       "      <th>3</th>\n",
       "      <td>M6A</td>\n",
       "      <td>North York</td>\n",
       "      <td>Lawrence Manor, Lawrence Heights</td>\n",
       "    </tr>\n",
       "    <tr>\n",
       "      <th>4</th>\n",
       "      <td>M7A</td>\n",
       "      <td>Downtown Toronto</td>\n",
       "      <td>Queen's Park, Ontario Provincial Government</td>\n",
       "    </tr>\n",
       "    <tr>\n",
       "      <th>...</th>\n",
       "      <td>...</td>\n",
       "      <td>...</td>\n",
       "      <td>...</td>\n",
       "    </tr>\n",
       "    <tr>\n",
       "      <th>98</th>\n",
       "      <td>M8X</td>\n",
       "      <td>Etobicoke</td>\n",
       "      <td>The Kingsway, Montgomery Road, Old Mill North</td>\n",
       "    </tr>\n",
       "    <tr>\n",
       "      <th>99</th>\n",
       "      <td>M4Y</td>\n",
       "      <td>Downtown Toronto</td>\n",
       "      <td>Church and Wellesley</td>\n",
       "    </tr>\n",
       "    <tr>\n",
       "      <th>100</th>\n",
       "      <td>M7Y</td>\n",
       "      <td>East Toronto</td>\n",
       "      <td>Business reply mail Processing Centre, South C...</td>\n",
       "    </tr>\n",
       "    <tr>\n",
       "      <th>101</th>\n",
       "      <td>M8Y</td>\n",
       "      <td>Etobicoke</td>\n",
       "      <td>Old Mill South, King's Mill Park, Sunnylea, Hu...</td>\n",
       "    </tr>\n",
       "    <tr>\n",
       "      <th>102</th>\n",
       "      <td>M8Z</td>\n",
       "      <td>Etobicoke</td>\n",
       "      <td>Mimico NW, The Queensway West, South of Bloor,...</td>\n",
       "    </tr>\n",
       "  </tbody>\n",
       "</table>\n",
       "<p>103 rows × 3 columns</p>\n",
       "</div>"
      ],
      "text/plain": [
       "    Postal Code           Borough  \\\n",
       "0           M3A        North York   \n",
       "1           M4A        North York   \n",
       "2           M5A  Downtown Toronto   \n",
       "3           M6A        North York   \n",
       "4           M7A  Downtown Toronto   \n",
       "..          ...               ...   \n",
       "98          M8X         Etobicoke   \n",
       "99          M4Y  Downtown Toronto   \n",
       "100         M7Y      East Toronto   \n",
       "101         M8Y         Etobicoke   \n",
       "102         M8Z         Etobicoke   \n",
       "\n",
       "                                          Neighborhood  \n",
       "0                                            Parkwoods  \n",
       "1                                     Victoria Village  \n",
       "2                            Regent Park, Harbourfront  \n",
       "3                     Lawrence Manor, Lawrence Heights  \n",
       "4          Queen's Park, Ontario Provincial Government  \n",
       "..                                                 ...  \n",
       "98       The Kingsway, Montgomery Road, Old Mill North  \n",
       "99                                Church and Wellesley  \n",
       "100  Business reply mail Processing Centre, South C...  \n",
       "101  Old Mill South, King's Mill Park, Sunnylea, Hu...  \n",
       "102  Mimico NW, The Queensway West, South of Bloor,...  \n",
       "\n",
       "[103 rows x 3 columns]"
      ]
     },
     "execution_count": 15,
     "metadata": {},
     "output_type": "execute_result"
    }
   ],
   "source": [
    "table2"
   ]
  },
  {
   "cell_type": "markdown",
   "metadata": {},
   "source": [
    "## finished question 1 here--------------------------"
   ]
  },
  {
   "cell_type": "code",
   "execution_count": 16,
   "metadata": {},
   "outputs": [],
   "source": [
    "coordinates=pd.read_csv('http://cocl.us/Geospatial_data')"
   ]
  },
  {
   "cell_type": "code",
   "execution_count": 18,
   "metadata": {},
   "outputs": [
    {
     "data": {
      "text/html": [
       "<div>\n",
       "<style scoped>\n",
       "    .dataframe tbody tr th:only-of-type {\n",
       "        vertical-align: middle;\n",
       "    }\n",
       "\n",
       "    .dataframe tbody tr th {\n",
       "        vertical-align: top;\n",
       "    }\n",
       "\n",
       "    .dataframe thead th {\n",
       "        text-align: right;\n",
       "    }\n",
       "</style>\n",
       "<table border=\"1\" class=\"dataframe\">\n",
       "  <thead>\n",
       "    <tr style=\"text-align: right;\">\n",
       "      <th></th>\n",
       "      <th>Postal Code</th>\n",
       "      <th>Latitude</th>\n",
       "      <th>Longitude</th>\n",
       "    </tr>\n",
       "  </thead>\n",
       "  <tbody>\n",
       "    <tr>\n",
       "      <th>0</th>\n",
       "      <td>M1B</td>\n",
       "      <td>43.806686</td>\n",
       "      <td>-79.194353</td>\n",
       "    </tr>\n",
       "    <tr>\n",
       "      <th>1</th>\n",
       "      <td>M1C</td>\n",
       "      <td>43.784535</td>\n",
       "      <td>-79.160497</td>\n",
       "    </tr>\n",
       "    <tr>\n",
       "      <th>2</th>\n",
       "      <td>M1E</td>\n",
       "      <td>43.763573</td>\n",
       "      <td>-79.188711</td>\n",
       "    </tr>\n",
       "    <tr>\n",
       "      <th>3</th>\n",
       "      <td>M1G</td>\n",
       "      <td>43.770992</td>\n",
       "      <td>-79.216917</td>\n",
       "    </tr>\n",
       "    <tr>\n",
       "      <th>4</th>\n",
       "      <td>M1H</td>\n",
       "      <td>43.773136</td>\n",
       "      <td>-79.239476</td>\n",
       "    </tr>\n",
       "    <tr>\n",
       "      <th>...</th>\n",
       "      <td>...</td>\n",
       "      <td>...</td>\n",
       "      <td>...</td>\n",
       "    </tr>\n",
       "    <tr>\n",
       "      <th>98</th>\n",
       "      <td>M9N</td>\n",
       "      <td>43.706876</td>\n",
       "      <td>-79.518188</td>\n",
       "    </tr>\n",
       "    <tr>\n",
       "      <th>99</th>\n",
       "      <td>M9P</td>\n",
       "      <td>43.696319</td>\n",
       "      <td>-79.532242</td>\n",
       "    </tr>\n",
       "    <tr>\n",
       "      <th>100</th>\n",
       "      <td>M9R</td>\n",
       "      <td>43.688905</td>\n",
       "      <td>-79.554724</td>\n",
       "    </tr>\n",
       "    <tr>\n",
       "      <th>101</th>\n",
       "      <td>M9V</td>\n",
       "      <td>43.739416</td>\n",
       "      <td>-79.588437</td>\n",
       "    </tr>\n",
       "    <tr>\n",
       "      <th>102</th>\n",
       "      <td>M9W</td>\n",
       "      <td>43.706748</td>\n",
       "      <td>-79.594054</td>\n",
       "    </tr>\n",
       "  </tbody>\n",
       "</table>\n",
       "<p>103 rows × 3 columns</p>\n",
       "</div>"
      ],
      "text/plain": [
       "    Postal Code   Latitude  Longitude\n",
       "0           M1B  43.806686 -79.194353\n",
       "1           M1C  43.784535 -79.160497\n",
       "2           M1E  43.763573 -79.188711\n",
       "3           M1G  43.770992 -79.216917\n",
       "4           M1H  43.773136 -79.239476\n",
       "..          ...        ...        ...\n",
       "98          M9N  43.706876 -79.518188\n",
       "99          M9P  43.696319 -79.532242\n",
       "100         M9R  43.688905 -79.554724\n",
       "101         M9V  43.739416 -79.588437\n",
       "102         M9W  43.706748 -79.594054\n",
       "\n",
       "[103 rows x 3 columns]"
      ]
     },
     "execution_count": 18,
     "metadata": {},
     "output_type": "execute_result"
    }
   ],
   "source": [
    "coordinates"
   ]
  },
  {
   "cell_type": "markdown",
   "metadata": {},
   "source": [
    "# merging the 2 dataframes"
   ]
  },
  {
   "cell_type": "code",
   "execution_count": 19,
   "metadata": {},
   "outputs": [
    {
     "name": "stderr",
     "output_type": "stream",
     "text": [
      "c:\\users\\kushal\\appdata\\local\\programs\\python\\python38\\lib\\site-packages\\pandas\\core\\indexing.py:845: SettingWithCopyWarning: \n",
      "A value is trying to be set on a copy of a slice from a DataFrame.\n",
      "Try using .loc[row_indexer,col_indexer] = value instead\n",
      "\n",
      "See the caveats in the documentation: https://pandas.pydata.org/pandas-docs/stable/user_guide/indexing.html#returning-a-view-versus-a-copy\n",
      "  self.obj[key] = _infer_fill_value(value)\n",
      "c:\\users\\kushal\\appdata\\local\\programs\\python\\python38\\lib\\site-packages\\pandas\\core\\indexing.py:966: SettingWithCopyWarning: \n",
      "A value is trying to be set on a copy of a slice from a DataFrame.\n",
      "Try using .loc[row_indexer,col_indexer] = value instead\n",
      "\n",
      "See the caveats in the documentation: https://pandas.pydata.org/pandas-docs/stable/user_guide/indexing.html#returning-a-view-versus-a-copy\n",
      "  self.obj[item] = s\n"
     ]
    },
    {
     "data": {
      "text/html": [
       "<div>\n",
       "<style scoped>\n",
       "    .dataframe tbody tr th:only-of-type {\n",
       "        vertical-align: middle;\n",
       "    }\n",
       "\n",
       "    .dataframe tbody tr th {\n",
       "        vertical-align: top;\n",
       "    }\n",
       "\n",
       "    .dataframe thead th {\n",
       "        text-align: right;\n",
       "    }\n",
       "</style>\n",
       "<table border=\"1\" class=\"dataframe\">\n",
       "  <thead>\n",
       "    <tr style=\"text-align: right;\">\n",
       "      <th></th>\n",
       "      <th>Postal Code</th>\n",
       "      <th>Borough</th>\n",
       "      <th>Neighborhood</th>\n",
       "      <th>Latitue</th>\n",
       "      <th>Longitude</th>\n",
       "    </tr>\n",
       "  </thead>\n",
       "  <tbody>\n",
       "    <tr>\n",
       "      <th>0</th>\n",
       "      <td>M3A</td>\n",
       "      <td>North York</td>\n",
       "      <td>Parkwoods</td>\n",
       "      <td>43.753259</td>\n",
       "      <td>-79.329656</td>\n",
       "    </tr>\n",
       "    <tr>\n",
       "      <th>1</th>\n",
       "      <td>M4A</td>\n",
       "      <td>North York</td>\n",
       "      <td>Victoria Village</td>\n",
       "      <td>43.725882</td>\n",
       "      <td>-79.315572</td>\n",
       "    </tr>\n",
       "    <tr>\n",
       "      <th>2</th>\n",
       "      <td>M5A</td>\n",
       "      <td>Downtown Toronto</td>\n",
       "      <td>Regent Park, Harbourfront</td>\n",
       "      <td>43.654260</td>\n",
       "      <td>-79.360636</td>\n",
       "    </tr>\n",
       "    <tr>\n",
       "      <th>3</th>\n",
       "      <td>M6A</td>\n",
       "      <td>North York</td>\n",
       "      <td>Lawrence Manor, Lawrence Heights</td>\n",
       "      <td>43.718518</td>\n",
       "      <td>-79.464763</td>\n",
       "    </tr>\n",
       "    <tr>\n",
       "      <th>4</th>\n",
       "      <td>M7A</td>\n",
       "      <td>Downtown Toronto</td>\n",
       "      <td>Queen's Park, Ontario Provincial Government</td>\n",
       "      <td>43.662301</td>\n",
       "      <td>-79.389494</td>\n",
       "    </tr>\n",
       "    <tr>\n",
       "      <th>...</th>\n",
       "      <td>...</td>\n",
       "      <td>...</td>\n",
       "      <td>...</td>\n",
       "      <td>...</td>\n",
       "      <td>...</td>\n",
       "    </tr>\n",
       "    <tr>\n",
       "      <th>98</th>\n",
       "      <td>M8X</td>\n",
       "      <td>Etobicoke</td>\n",
       "      <td>The Kingsway, Montgomery Road, Old Mill North</td>\n",
       "      <td>43.653654</td>\n",
       "      <td>-79.506944</td>\n",
       "    </tr>\n",
       "    <tr>\n",
       "      <th>99</th>\n",
       "      <td>M4Y</td>\n",
       "      <td>Downtown Toronto</td>\n",
       "      <td>Church and Wellesley</td>\n",
       "      <td>43.665860</td>\n",
       "      <td>-79.383160</td>\n",
       "    </tr>\n",
       "    <tr>\n",
       "      <th>100</th>\n",
       "      <td>M7Y</td>\n",
       "      <td>East Toronto</td>\n",
       "      <td>Business reply mail Processing Centre, South C...</td>\n",
       "      <td>43.662744</td>\n",
       "      <td>-79.321558</td>\n",
       "    </tr>\n",
       "    <tr>\n",
       "      <th>101</th>\n",
       "      <td>M8Y</td>\n",
       "      <td>Etobicoke</td>\n",
       "      <td>Old Mill South, King's Mill Park, Sunnylea, Hu...</td>\n",
       "      <td>43.636258</td>\n",
       "      <td>-79.498509</td>\n",
       "    </tr>\n",
       "    <tr>\n",
       "      <th>102</th>\n",
       "      <td>M8Z</td>\n",
       "      <td>Etobicoke</td>\n",
       "      <td>Mimico NW, The Queensway West, South of Bloor,...</td>\n",
       "      <td>43.628841</td>\n",
       "      <td>-79.520999</td>\n",
       "    </tr>\n",
       "  </tbody>\n",
       "</table>\n",
       "<p>103 rows × 5 columns</p>\n",
       "</div>"
      ],
      "text/plain": [
       "    Postal Code           Borough  \\\n",
       "0           M3A        North York   \n",
       "1           M4A        North York   \n",
       "2           M5A  Downtown Toronto   \n",
       "3           M6A        North York   \n",
       "4           M7A  Downtown Toronto   \n",
       "..          ...               ...   \n",
       "98          M8X         Etobicoke   \n",
       "99          M4Y  Downtown Toronto   \n",
       "100         M7Y      East Toronto   \n",
       "101         M8Y         Etobicoke   \n",
       "102         M8Z         Etobicoke   \n",
       "\n",
       "                                          Neighborhood    Latitue  Longitude  \n",
       "0                                            Parkwoods  43.753259 -79.329656  \n",
       "1                                     Victoria Village  43.725882 -79.315572  \n",
       "2                            Regent Park, Harbourfront  43.654260 -79.360636  \n",
       "3                     Lawrence Manor, Lawrence Heights  43.718518 -79.464763  \n",
       "4          Queen's Park, Ontario Provincial Government  43.662301 -79.389494  \n",
       "..                                                 ...        ...        ...  \n",
       "98       The Kingsway, Montgomery Road, Old Mill North  43.653654 -79.506944  \n",
       "99                                Church and Wellesley  43.665860 -79.383160  \n",
       "100  Business reply mail Processing Centre, South C...  43.662744 -79.321558  \n",
       "101  Old Mill South, King's Mill Park, Sunnylea, Hu...  43.636258 -79.498509  \n",
       "102  Mimico NW, The Queensway West, South of Bloor,...  43.628841 -79.520999  \n",
       "\n",
       "[103 rows x 5 columns]"
      ]
     },
     "execution_count": 19,
     "metadata": {},
     "output_type": "execute_result"
    }
   ],
   "source": [
    "for i in range(0,table2.shape[0]):\n",
    "    for j in range(0,coordinates.shape[0]):\n",
    "        if(table2.loc[i,'Postal Code']==coordinates.loc[j,'Postal Code']):\n",
    "            table2.loc[i,'Latitue']=coordinates.loc[j,'Latitude']\n",
    "            table2.loc[i,'Longitude']=coordinates.loc[j,'Longitude']\n",
    "table2"
   ]
  },
  {
   "cell_type": "code",
   "execution_count": 20,
   "metadata": {},
   "outputs": [
    {
     "name": "stdout",
     "output_type": "stream",
     "text": [
      "This set has 103 different neighborhoods and 10 different boroughs.\n"
     ]
    }
   ],
   "source": [
    "print('This set has {} different neighborhoods and {} different boroughs.'.format(table2.shape[0],len(table2['Borough'].unique())))"
   ]
  },
  {
   "cell_type": "code",
   "execution_count": 21,
   "metadata": {},
   "outputs": [
    {
     "data": {
      "text/plain": [
       "array(['North York', 'Downtown Toronto', 'Etobicoke', 'Scarborough',\n",
       "       'East York', 'York', 'East Toronto', 'West Toronto',\n",
       "       'Central Toronto', 'Mississauga'], dtype=object)"
      ]
     },
     "execution_count": 21,
     "metadata": {},
     "output_type": "execute_result"
    }
   ],
   "source": [
    "table2.Borough.unique()"
   ]
  },
  {
   "cell_type": "code",
   "execution_count": 23,
   "metadata": {},
   "outputs": [
    {
     "data": {
      "text/html": [
       "<div>\n",
       "<style scoped>\n",
       "    .dataframe tbody tr th:only-of-type {\n",
       "        vertical-align: middle;\n",
       "    }\n",
       "\n",
       "    .dataframe tbody tr th {\n",
       "        vertical-align: top;\n",
       "    }\n",
       "\n",
       "    .dataframe thead th {\n",
       "        text-align: right;\n",
       "    }\n",
       "</style>\n",
       "<table border=\"1\" class=\"dataframe\">\n",
       "  <thead>\n",
       "    <tr style=\"text-align: right;\">\n",
       "      <th></th>\n",
       "      <th>Postal Code</th>\n",
       "      <th>Borough</th>\n",
       "      <th>Neighborhood</th>\n",
       "      <th>Latitue</th>\n",
       "      <th>Longitude</th>\n",
       "    </tr>\n",
       "  </thead>\n",
       "  <tbody>\n",
       "    <tr>\n",
       "      <th>0</th>\n",
       "      <td>M3A</td>\n",
       "      <td>North York</td>\n",
       "      <td>Parkwoods</td>\n",
       "      <td>43.753259</td>\n",
       "      <td>-79.329656</td>\n",
       "    </tr>\n",
       "    <tr>\n",
       "      <th>1</th>\n",
       "      <td>M4A</td>\n",
       "      <td>North York</td>\n",
       "      <td>Victoria Village</td>\n",
       "      <td>43.725882</td>\n",
       "      <td>-79.315572</td>\n",
       "    </tr>\n",
       "    <tr>\n",
       "      <th>2</th>\n",
       "      <td>M5A</td>\n",
       "      <td>Downtown Toronto</td>\n",
       "      <td>Regent Park, Harbourfront</td>\n",
       "      <td>43.654260</td>\n",
       "      <td>-79.360636</td>\n",
       "    </tr>\n",
       "    <tr>\n",
       "      <th>3</th>\n",
       "      <td>M6A</td>\n",
       "      <td>North York</td>\n",
       "      <td>Lawrence Manor, Lawrence Heights</td>\n",
       "      <td>43.718518</td>\n",
       "      <td>-79.464763</td>\n",
       "    </tr>\n",
       "    <tr>\n",
       "      <th>4</th>\n",
       "      <td>M7A</td>\n",
       "      <td>Downtown Toronto</td>\n",
       "      <td>Queen's Park, Ontario Provincial Government</td>\n",
       "      <td>43.662301</td>\n",
       "      <td>-79.389494</td>\n",
       "    </tr>\n",
       "    <tr>\n",
       "      <th>...</th>\n",
       "      <td>...</td>\n",
       "      <td>...</td>\n",
       "      <td>...</td>\n",
       "      <td>...</td>\n",
       "      <td>...</td>\n",
       "    </tr>\n",
       "    <tr>\n",
       "      <th>98</th>\n",
       "      <td>M8X</td>\n",
       "      <td>Etobicoke</td>\n",
       "      <td>The Kingsway, Montgomery Road, Old Mill North</td>\n",
       "      <td>43.653654</td>\n",
       "      <td>-79.506944</td>\n",
       "    </tr>\n",
       "    <tr>\n",
       "      <th>99</th>\n",
       "      <td>M4Y</td>\n",
       "      <td>Downtown Toronto</td>\n",
       "      <td>Church and Wellesley</td>\n",
       "      <td>43.665860</td>\n",
       "      <td>-79.383160</td>\n",
       "    </tr>\n",
       "    <tr>\n",
       "      <th>100</th>\n",
       "      <td>M7Y</td>\n",
       "      <td>East Toronto</td>\n",
       "      <td>Business reply mail Processing Centre, South C...</td>\n",
       "      <td>43.662744</td>\n",
       "      <td>-79.321558</td>\n",
       "    </tr>\n",
       "    <tr>\n",
       "      <th>101</th>\n",
       "      <td>M8Y</td>\n",
       "      <td>Etobicoke</td>\n",
       "      <td>Old Mill South, King's Mill Park, Sunnylea, Hu...</td>\n",
       "      <td>43.636258</td>\n",
       "      <td>-79.498509</td>\n",
       "    </tr>\n",
       "    <tr>\n",
       "      <th>102</th>\n",
       "      <td>M8Z</td>\n",
       "      <td>Etobicoke</td>\n",
       "      <td>Mimico NW, The Queensway West, South of Bloor,...</td>\n",
       "      <td>43.628841</td>\n",
       "      <td>-79.520999</td>\n",
       "    </tr>\n",
       "  </tbody>\n",
       "</table>\n",
       "<p>103 rows × 5 columns</p>\n",
       "</div>"
      ],
      "text/plain": [
       "    Postal Code           Borough  \\\n",
       "0           M3A        North York   \n",
       "1           M4A        North York   \n",
       "2           M5A  Downtown Toronto   \n",
       "3           M6A        North York   \n",
       "4           M7A  Downtown Toronto   \n",
       "..          ...               ...   \n",
       "98          M8X         Etobicoke   \n",
       "99          M4Y  Downtown Toronto   \n",
       "100         M7Y      East Toronto   \n",
       "101         M8Y         Etobicoke   \n",
       "102         M8Z         Etobicoke   \n",
       "\n",
       "                                          Neighborhood    Latitue  Longitude  \n",
       "0                                            Parkwoods  43.753259 -79.329656  \n",
       "1                                     Victoria Village  43.725882 -79.315572  \n",
       "2                            Regent Park, Harbourfront  43.654260 -79.360636  \n",
       "3                     Lawrence Manor, Lawrence Heights  43.718518 -79.464763  \n",
       "4          Queen's Park, Ontario Provincial Government  43.662301 -79.389494  \n",
       "..                                                 ...        ...        ...  \n",
       "98       The Kingsway, Montgomery Road, Old Mill North  43.653654 -79.506944  \n",
       "99                                Church and Wellesley  43.665860 -79.383160  \n",
       "100  Business reply mail Processing Centre, South C...  43.662744 -79.321558  \n",
       "101  Old Mill South, King's Mill Park, Sunnylea, Hu...  43.636258 -79.498509  \n",
       "102  Mimico NW, The Queensway West, South of Bloor,...  43.628841 -79.520999  \n",
       "\n",
       "[103 rows x 5 columns]"
      ]
     },
     "execution_count": 23,
     "metadata": {},
     "output_type": "execute_result"
    }
   ],
   "source": [
    "table2"
   ]
  },
  {
   "cell_type": "markdown",
   "metadata": {},
   "source": [
    "# finished question 2 here-----------------------"
   ]
  },
  {
   "cell_type": "markdown",
   "metadata": {},
   "source": [
    "## saving the file as data 1.csv"
   ]
  },
  {
   "cell_type": "code",
   "execution_count": 24,
   "metadata": {},
   "outputs": [],
   "source": [
    "table2.to_csv('datanew.csv')"
   ]
  },
  {
   "cell_type": "markdown",
   "metadata": {},
   "source": [
    "# creating map"
   ]
  },
  {
   "cell_type": "markdown",
   "metadata": {},
   "source": [
    "LOCATION OF TORONTO:"
   ]
  },
  {
   "cell_type": "code",
   "execution_count": 25,
   "metadata": {},
   "outputs": [],
   "source": [
    "\n",
    "latitude=43.6532\n",
    "longitude=-79.3832"
   ]
  },
  {
   "cell_type": "code",
   "execution_count": 26,
   "metadata": {},
   "outputs": [
    {
     "data": {
      "text/html": [
       "<div style=\"width:100%;\"><div style=\"position:relative;width:100%;height:0;padding-bottom:60%;\"><span style=\"color:#565656\">Make this Notebook Trusted to load map: File -> Trust Notebook</span><iframe src=\"about:blank\" style=\"position:absolute;width:100%;height:100%;left:0;top:0;border:none !important;\" data-html=PCFET0NUWVBFIGh0bWw+CjxoZWFkPiAgICAKICAgIDxtZXRhIGh0dHAtZXF1aXY9ImNvbnRlbnQtdHlwZSIgY29udGVudD0idGV4dC9odG1sOyBjaGFyc2V0PVVURi04IiAvPgogICAgCiAgICAgICAgPHNjcmlwdD4KICAgICAgICAgICAgTF9OT19UT1VDSCA9IGZhbHNlOwogICAgICAgICAgICBMX0RJU0FCTEVfM0QgPSBmYWxzZTsKICAgICAgICA8L3NjcmlwdD4KICAgIAogICAgPHNjcmlwdCBzcmM9Imh0dHBzOi8vY2RuLmpzZGVsaXZyLm5ldC9ucG0vbGVhZmxldEAxLjYuMC9kaXN0L2xlYWZsZXQuanMiPjwvc2NyaXB0PgogICAgPHNjcmlwdCBzcmM9Imh0dHBzOi8vY29kZS5qcXVlcnkuY29tL2pxdWVyeS0xLjEyLjQubWluLmpzIj48L3NjcmlwdD4KICAgIDxzY3JpcHQgc3JjPSJodHRwczovL21heGNkbi5ib290c3RyYXBjZG4uY29tL2Jvb3RzdHJhcC8zLjIuMC9qcy9ib290c3RyYXAubWluLmpzIj48L3NjcmlwdD4KICAgIDxzY3JpcHQgc3JjPSJodHRwczovL2NkbmpzLmNsb3VkZmxhcmUuY29tL2FqYXgvbGlicy9MZWFmbGV0LmF3ZXNvbWUtbWFya2Vycy8yLjAuMi9sZWFmbGV0LmF3ZXNvbWUtbWFya2Vycy5qcyI+PC9zY3JpcHQ+CiAgICA8bGluayByZWw9InN0eWxlc2hlZXQiIGhyZWY9Imh0dHBzOi8vY2RuLmpzZGVsaXZyLm5ldC9ucG0vbGVhZmxldEAxLjYuMC9kaXN0L2xlYWZsZXQuY3NzIi8+CiAgICA8bGluayByZWw9InN0eWxlc2hlZXQiIGhyZWY9Imh0dHBzOi8vbWF4Y2RuLmJvb3RzdHJhcGNkbi5jb20vYm9vdHN0cmFwLzMuMi4wL2Nzcy9ib290c3RyYXAubWluLmNzcyIvPgogICAgPGxpbmsgcmVsPSJzdHlsZXNoZWV0IiBocmVmPSJodHRwczovL21heGNkbi5ib290c3RyYXBjZG4uY29tL2Jvb3RzdHJhcC8zLjIuMC9jc3MvYm9vdHN0cmFwLXRoZW1lLm1pbi5jc3MiLz4KICAgIDxsaW5rIHJlbD0ic3R5bGVzaGVldCIgaHJlZj0iaHR0cHM6Ly9tYXhjZG4uYm9vdHN0cmFwY2RuLmNvbS9mb250LWF3ZXNvbWUvNC42LjMvY3NzL2ZvbnQtYXdlc29tZS5taW4uY3NzIi8+CiAgICA8bGluayByZWw9InN0eWxlc2hlZXQiIGhyZWY9Imh0dHBzOi8vY2RuanMuY2xvdWRmbGFyZS5jb20vYWpheC9saWJzL0xlYWZsZXQuYXdlc29tZS1tYXJrZXJzLzIuMC4yL2xlYWZsZXQuYXdlc29tZS1tYXJrZXJzLmNzcyIvPgogICAgPGxpbmsgcmVsPSJzdHlsZXNoZWV0IiBocmVmPSJodHRwczovL3Jhd2Nkbi5naXRoYWNrLmNvbS9weXRob24tdmlzdWFsaXphdGlvbi9mb2xpdW0vbWFzdGVyL2ZvbGl1bS90ZW1wbGF0ZXMvbGVhZmxldC5hd2Vzb21lLnJvdGF0ZS5jc3MiLz4KICAgIDxzdHlsZT5odG1sLCBib2R5IHt3aWR0aDogMTAwJTtoZWlnaHQ6IDEwMCU7bWFyZ2luOiAwO3BhZGRpbmc6IDA7fTwvc3R5bGU+CiAgICA8c3R5bGU+I21hcCB7cG9zaXRpb246YWJzb2x1dGU7dG9wOjA7Ym90dG9tOjA7cmlnaHQ6MDtsZWZ0OjA7fTwvc3R5bGU+CiAgICAKICAgICAgICAgICAgPG1ldGEgbmFtZT0idmlld3BvcnQiIGNvbnRlbnQ9IndpZHRoPWRldmljZS13aWR0aCwKICAgICAgICAgICAgICAgIGluaXRpYWwtc2NhbGU9MS4wLCBtYXhpbXVtLXNjYWxlPTEuMCwgdXNlci1zY2FsYWJsZT1ubyIgLz4KICAgICAgICAgICAgPHN0eWxlPgogICAgICAgICAgICAgICAgI21hcF9hZDFhYzQzMmU1M2E0ZjU3ODczYzY2OTRiZjZiZDg2NCB7CiAgICAgICAgICAgICAgICAgICAgcG9zaXRpb246IHJlbGF0aXZlOwogICAgICAgICAgICAgICAgICAgIHdpZHRoOiAxMDAuMCU7CiAgICAgICAgICAgICAgICAgICAgaGVpZ2h0OiAxMDAuMCU7CiAgICAgICAgICAgICAgICAgICAgbGVmdDogMC4wJTsKICAgICAgICAgICAgICAgICAgICB0b3A6IDAuMCU7CiAgICAgICAgICAgICAgICB9CiAgICAgICAgICAgIDwvc3R5bGU+CiAgICAgICAgCjwvaGVhZD4KPGJvZHk+ICAgIAogICAgCiAgICAgICAgICAgIDxkaXYgY2xhc3M9ImZvbGl1bS1tYXAiIGlkPSJtYXBfYWQxYWM0MzJlNTNhNGY1Nzg3M2M2Njk0YmY2YmQ4NjQiID48L2Rpdj4KICAgICAgICAKPC9ib2R5Pgo8c2NyaXB0PiAgICAKICAgIAogICAgICAgICAgICB2YXIgbWFwX2FkMWFjNDMyZTUzYTRmNTc4NzNjNjY5NGJmNmJkODY0ID0gTC5tYXAoCiAgICAgICAgICAgICAgICAibWFwX2FkMWFjNDMyZTUzYTRmNTc4NzNjNjY5NGJmNmJkODY0IiwKICAgICAgICAgICAgICAgIHsKICAgICAgICAgICAgICAgICAgICBjZW50ZXI6IFs0My42NTMyLCAtNzkuMzgzMl0sCiAgICAgICAgICAgICAgICAgICAgY3JzOiBMLkNSUy5FUFNHMzg1NywKICAgICAgICAgICAgICAgICAgICB6b29tOiAxMCwKICAgICAgICAgICAgICAgICAgICB6b29tQ29udHJvbDogdHJ1ZSwKICAgICAgICAgICAgICAgICAgICBwcmVmZXJDYW52YXM6IGZhbHNlLAogICAgICAgICAgICAgICAgfQogICAgICAgICAgICApOwoKICAgICAgICAgICAgCgogICAgICAgIAogICAgCiAgICAgICAgICAgIHZhciB0aWxlX2xheWVyXzJlNzA0Y2Y4NGZiMDRmNTJhNjIwNGY1ZGIwMGM3N2QzID0gTC50aWxlTGF5ZXIoCiAgICAgICAgICAgICAgICAiaHR0cHM6Ly97c30udGlsZS5vcGVuc3RyZWV0bWFwLm9yZy97en0ve3h9L3t5fS5wbmciLAogICAgICAgICAgICAgICAgeyJhdHRyaWJ1dGlvbiI6ICJEYXRhIGJ5IFx1MDAyNmNvcHk7IFx1MDAzY2EgaHJlZj1cImh0dHA6Ly9vcGVuc3RyZWV0bWFwLm9yZ1wiXHUwMDNlT3BlblN0cmVldE1hcFx1MDAzYy9hXHUwMDNlLCB1bmRlciBcdTAwM2NhIGhyZWY9XCJodHRwOi8vd3d3Lm9wZW5zdHJlZXRtYXAub3JnL2NvcHlyaWdodFwiXHUwMDNlT0RiTFx1MDAzYy9hXHUwMDNlLiIsICJkZXRlY3RSZXRpbmEiOiBmYWxzZSwgIm1heE5hdGl2ZVpvb20iOiAxOCwgIm1heFpvb20iOiAxOCwgIm1pblpvb20iOiAwLCAibm9XcmFwIjogZmFsc2UsICJvcGFjaXR5IjogMSwgInN1YmRvbWFpbnMiOiAiYWJjIiwgInRtcyI6IGZhbHNlfQogICAgICAgICAgICApLmFkZFRvKG1hcF9hZDFhYzQzMmU1M2E0ZjU3ODczYzY2OTRiZjZiZDg2NCk7CiAgICAgICAgCjwvc2NyaXB0Pg== onload=\"this.contentDocument.open();this.contentDocument.write(atob(this.getAttribute('data-html')));this.contentDocument.close();\" allowfullscreen webkitallowfullscreen mozallowfullscreen></iframe></div></div>"
      ],
      "text/plain": [
       "<folium.folium.Map at 0x1df2c3c5bb0>"
      ]
     },
     "execution_count": 26,
     "metadata": {},
     "output_type": "execute_result"
    }
   ],
   "source": [
    "map_toronto = folium.Map(location=[latitude, longitude], zoom_start=10)\n",
    "map_toronto"
   ]
  },
  {
   "cell_type": "markdown",
   "metadata": {},
   "source": [
    "## adding the neighborhoods and respective boroughs "
   ]
  },
  {
   "cell_type": "code",
   "execution_count": 37,
   "metadata": {},
   "outputs": [
    {
     "data": {
      "text/html": [
       "<div style=\"width:100%;\"><div style=\"position:relative;width:100%;height:0;padding-bottom:60%;\"><span style=\"color:#565656\">Make this Notebook Trusted to load map: File -> Trust Notebook</span><iframe src=\"about:blank\" style=\"position:absolute;width:100%;height:100%;left:0;top:0;border:none !important;\" data-html=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 onload=\"this.contentDocument.open();this.contentDocument.write(atob(this.getAttribute('data-html')));this.contentDocument.close();\" allowfullscreen webkitallowfullscreen mozallowfullscreen></iframe></div></div>"
      ],
      "text/plain": [
       "<folium.folium.Map at 0x1df2c491fd0>"
      ]
     },
     "execution_count": 37,
     "metadata": {},
     "output_type": "execute_result"
    }
   ],
   "source": [
    "# add markers to map\n",
    "map_toronto = folium.Map(location=[latitude, longitude], zoom_start=10)\n",
    "\n",
    "for lat, lng, borough, neighbourhood in zip(table2['Latitue'], table2['Longitude'], table2['Borough'], table2['Neighborhood']):\n",
    "    label = '{}, {}'.format(neighbourhood, borough)\n",
    "    label = folium.Popup(label, parse_html=True)\n",
    "    folium.CircleMarker(\n",
    "        [lat, lng],\n",
    "        radius=5,\n",
    "        popup=label,\n",
    "        color='blue',\n",
    "        fill=True,\n",
    "        fill_color='#3186cc',\n",
    "        fill_opacity=0.7,\n",
    "        parse_html=False).add_to(map_toronto)  \n",
    "    \n",
    "map_toronto"
   ]
  },
  {
   "cell_type": "code",
   "execution_count": null,
   "metadata": {},
   "outputs": [],
   "source": []
  }
 ],
 "metadata": {
  "kernelspec": {
   "display_name": "Python 3",
   "language": "python",
   "name": "python3"
  },
  "language_info": {
   "codemirror_mode": {
    "name": "ipython",
    "version": 3
   },
   "file_extension": ".py",
   "mimetype": "text/x-python",
   "name": "python",
   "nbconvert_exporter": "python",
   "pygments_lexer": "ipython3",
   "version": "3.8.3"
  }
 },
 "nbformat": 4,
 "nbformat_minor": 4
}
